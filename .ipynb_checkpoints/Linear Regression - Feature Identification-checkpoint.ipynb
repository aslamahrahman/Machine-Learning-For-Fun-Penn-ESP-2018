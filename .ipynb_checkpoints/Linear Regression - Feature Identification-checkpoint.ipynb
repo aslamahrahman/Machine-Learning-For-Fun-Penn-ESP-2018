{
 "cells": [
  {
   "cell_type": "code",
   "execution_count": 56,
   "metadata": {},
   "outputs": [],
   "source": [
    "# Import libraries\n",
    "import numpy as np\n",
    "import pandas as pd\n",
    "import matplotlib.pyplot as plt\n",
    "from sklearn import datasets, linear_model\n",
    "from sklearn.model_selection import train_test_split\n",
    "from sklearn.metrics import mean_squared_error, r2_score"
   ]
  },
  {
   "cell_type": "code",
   "execution_count": 159,
   "metadata": {},
   "outputs": [],
   "source": [
    "# Generate data\n",
    "a = 0.5\n",
    "b = -3.0\n",
    "c = 2.0\n",
    "error_amplitude = 5.0\n",
    "\n",
    "x = np.linspace(-10.0, 10.0, num=100)\n",
    "num_samples = np.shape(x)[0]\n",
    "\n",
    "# Input X\n",
    "X = x.reshape(num_samples,1)\n",
    "# Output y\n",
    "y = a*np.multiply(X,X) + b*X + c + error_amplitude*np.random.rand(num_samples,1)"
   ]
  },
  {
   "cell_type": "code",
   "execution_count": 160,
   "metadata": {},
   "outputs": [
    {
     "data": {
      "text/plain": [
       "[<matplotlib.lines.Line2D at 0x156414e0b38>]"
      ]
     },
     "execution_count": 160,
     "metadata": {},
     "output_type": "execute_result"
    },
    {
     "data": {
      "image/png": "[encoded data removed]",
      "text/plain": [
       "<Figure size 432x288 with 1 Axes>"
      ]
     },
     "metadata": {
      "needs_background": "light"
     },
     "output_type": "display_data"
    }
   ],
   "source": [
    "plt.plot(X[:,0],y[:,0])"
   ]
  },
  {
   "cell_type": "code",
   "execution_count": 161,
   "metadata": {},
   "outputs": [],
   "source": [
    "#split into training & testing sets randomly\n",
    "X_train, X_test, y_train, y_test = train_test_split(X, y, test_size=0.33, random_state=42)"
   ]
  },
  {
   "cell_type": "code",
   "execution_count": 162,
   "metadata": {},
   "outputs": [
    {
     "data": {
      "text/plain": [
       "LinearRegression(copy_X=True, fit_intercept=True, n_jobs=1, normalize=False)"
      ]
     },
     "execution_count": 162,
     "metadata": {},
     "output_type": "execute_result"
    }
   ],
   "source": [
    "# Create linear regression object\n",
    "regr = linear_model.LinearRegression()\n",
    "\n",
    "# Train the model using the training sets\n",
    "regr.fit(X_train, y_train)"
   ]
  },
  {
   "cell_type": "code",
   "execution_count": 163,
   "metadata": {},
   "outputs": [],
   "source": [
    "# Make predictions using the testing set\n",
    "y_prediction = regr.predict(X_test)"
   ]
  },
  {
   "cell_type": "code",
   "execution_count": 164,
   "metadata": {},
   "outputs": [
    {
     "name": "stdout",
     "output_type": "stream",
     "text": [
      "Mean squared error: 208.16\n",
      "Variance score: 0.64\n"
     ]
    },
    {
     "data": {
      "image/png": "[encoded data removed]",
      "text/plain": [
       "<Figure size 432x288 with 1 Axes>"
      ]
     },
     "metadata": {
      "needs_background": "light"
     },
     "output_type": "display_data"
    }
   ],
   "source": [
    "# Test performance of linear regression model\n",
    "print(\"Mean squared error: %.2f\"% mean_squared_error(y_test, y_prediction))\n",
    "\n",
    "# Explained variance score: 1 is perfect prediction\n",
    "print('Variance score: %.2f' % r2_score(y_test, y_prediction))\n",
    "\n",
    "# Plot outputs\n",
    "plt.scatter(X_test, y_test,  color='blue')\n",
    "plt.plot(X_test, y_prediction, color='red', linewidth=3)\n",
    "\n",
    "plt.show()"
   ]
  },
  {
   "cell_type": "code",
   "execution_count": 166,
   "metadata": {},
   "outputs": [
    {
     "name": "stdout",
     "output_type": "stream",
     "text": [
      "[[-1.00000000e+01  1.00000000e+02]\n",
      " [-9.79797980e+00  9.60004081e+01]\n",
      " [-9.59595960e+00  9.20824406e+01]\n",
      " [-9.39393939e+00  8.82460973e+01]\n",
      " [-9.19191919e+00  8.44913784e+01]\n",
      " [-8.98989899e+00  8.08182838e+01]\n",
      " [-8.78787879e+00  7.72268136e+01]\n",
      " [-8.58585859e+00  7.37169677e+01]\n",
      " [-8.38383838e+00  7.02887460e+01]\n",
      " [-8.18181818e+00  6.69421488e+01]\n",
      " [-7.97979798e+00  6.36771758e+01]\n",
      " [-7.77777778e+00  6.04938272e+01]\n",
      " [-7.57575758e+00  5.73921028e+01]\n",
      " [-7.37373737e+00  5.43720029e+01]\n",
      " [-7.17171717e+00  5.14335272e+01]\n",
      " [-6.96969697e+00  4.85766758e+01]\n",
      " [-6.76767677e+00  4.58014488e+01]\n",
      " [-6.56565657e+00  4.31078461e+01]\n",
      " [-6.36363636e+00  4.04958678e+01]\n",
      " [-6.16161616e+00  3.79655137e+01]\n",
      " [-5.95959596e+00  3.55167840e+01]\n",
      " [-5.75757576e+00  3.31496786e+01]\n",
      " [-5.55555556e+00  3.08641975e+01]\n",
      " [-5.35353535e+00  2.86603408e+01]\n",
      " [-5.15151515e+00  2.65381084e+01]\n",
      " [-4.94949495e+00  2.44975003e+01]\n",
      " [-4.74747475e+00  2.25385165e+01]\n",
      " [-4.54545455e+00  2.06611570e+01]\n",
      " [-4.34343434e+00  1.88654219e+01]\n",
      " [-4.14141414e+00  1.71513111e+01]\n",
      " [-3.93939394e+00  1.55188246e+01]\n",
      " [-3.73737374e+00  1.39679625e+01]\n",
      " [-3.53535354e+00  1.24987246e+01]\n",
      " [-3.33333333e+00  1.11111111e+01]\n",
      " [-3.13131313e+00  9.80512193e+00]\n",
      " [-2.92929293e+00  8.58075707e+00]\n",
      " [-2.72727273e+00  7.43801653e+00]\n",
      " [-2.52525253e+00  6.37690032e+00]\n",
      " [-2.32323232e+00  5.39740843e+00]\n",
      " [-2.12121212e+00  4.49954086e+00]\n",
      " [-1.91919192e+00  3.68329762e+00]\n",
      " [-1.71717172e+00  2.94867871e+00]\n",
      " [-1.51515152e+00  2.29568411e+00]\n",
      " [-1.31313131e+00  1.72431385e+00]\n",
      " [-1.11111111e+00  1.23456790e+00]\n",
      " [-9.09090909e-01  8.26446281e-01]\n",
      " [-7.07070707e-01  4.99948985e-01]\n",
      " [-5.05050505e-01  2.55076013e-01]\n",
      " [-3.03030303e-01  9.18273646e-02]\n",
      " [-1.01010101e-01  1.02030405e-02]\n",
      " [ 1.01010101e-01  1.02030405e-02]\n",
      " [ 3.03030303e-01  9.18273646e-02]\n",
      " [ 5.05050505e-01  2.55076013e-01]\n",
      " [ 7.07070707e-01  4.99948985e-01]\n",
      " [ 9.09090909e-01  8.26446281e-01]\n",
      " [ 1.11111111e+00  1.23456790e+00]\n",
      " [ 1.31313131e+00  1.72431385e+00]\n",
      " [ 1.51515152e+00  2.29568411e+00]\n",
      " [ 1.71717172e+00  2.94867871e+00]\n",
      " [ 1.91919192e+00  3.68329762e+00]\n",
      " [ 2.12121212e+00  4.49954086e+00]\n",
      " [ 2.32323232e+00  5.39740843e+00]\n",
      " [ 2.52525253e+00  6.37690032e+00]\n",
      " [ 2.72727273e+00  7.43801653e+00]\n",
      " [ 2.92929293e+00  8.58075707e+00]\n",
      " [ 3.13131313e+00  9.80512193e+00]\n",
      " [ 3.33333333e+00  1.11111111e+01]\n",
      " [ 3.53535354e+00  1.24987246e+01]\n",
      " [ 3.73737374e+00  1.39679625e+01]\n",
      " [ 3.93939394e+00  1.55188246e+01]\n",
      " [ 4.14141414e+00  1.71513111e+01]\n",
      " [ 4.34343434e+00  1.88654219e+01]\n",
      " [ 4.54545455e+00  2.06611570e+01]\n",
      " [ 4.74747475e+00  2.25385165e+01]\n",
      " [ 4.94949495e+00  2.44975003e+01]\n",
      " [ 5.15151515e+00  2.65381084e+01]\n",
      " [ 5.35353535e+00  2.86603408e+01]\n",
      " [ 5.55555556e+00  3.08641975e+01]\n",
      " [ 5.75757576e+00  3.31496786e+01]\n",
      " [ 5.95959596e+00  3.55167840e+01]\n",
      " [ 6.16161616e+00  3.79655137e+01]\n",
      " [ 6.36363636e+00  4.04958678e+01]\n",
      " [ 6.56565657e+00  4.31078461e+01]\n",
      " [ 6.76767677e+00  4.58014488e+01]\n",
      " [ 6.96969697e+00  4.85766758e+01]\n",
      " [ 7.17171717e+00  5.14335272e+01]\n",
      " [ 7.37373737e+00  5.43720029e+01]\n",
      " [ 7.57575758e+00  5.73921028e+01]\n",
      " [ 7.77777778e+00  6.04938272e+01]\n",
      " [ 7.97979798e+00  6.36771758e+01]\n",
      " [ 8.18181818e+00  6.69421488e+01]\n",
      " [ 8.38383838e+00  7.02887460e+01]\n",
      " [ 8.58585859e+00  7.37169677e+01]\n",
      " [ 8.78787879e+00  7.72268136e+01]\n",
      " [ 8.98989899e+00  8.08182838e+01]\n",
      " [ 9.19191919e+00  8.44913784e+01]\n",
      " [ 9.39393939e+00  8.82460973e+01]\n",
      " [ 9.59595960e+00  9.20824406e+01]\n",
      " [ 9.79797980e+00  9.60004081e+01]\n",
      " [ 1.00000000e+01  1.00000000e+02]]\n"
     ]
    }
   ],
   "source": [
    "# Create new feature\n",
    "X2 = np.multiply(X,X)\n",
    "X2 = np.hstack((X,X2))\n",
    "print(X2)"
   ]
  },
  {
   "cell_type": "code",
   "execution_count": 167,
   "metadata": {},
   "outputs": [],
   "source": [
    "#split into training & testing sets randomly\n",
    "X_train, X_test, y_train, y_test = train_test_split(X2, y, test_size=0.33, random_state=42)"
   ]
  },
  {
   "cell_type": "code",
   "execution_count": 168,
   "metadata": {},
   "outputs": [
    {
     "name": "stdout",
     "output_type": "stream",
     "text": [
      "[[-3.02989839  0.49596833]]\n"
     ]
    }
   ],
   "source": [
    "# Create linear regression object\n",
    "regr = linear_model.LinearRegression()\n",
    "\n",
    "# Train the model using the training sets\n",
    "regr.fit(X_train, y_train)\n",
    "print(regr.coef_)\n",
    "\n",
    "# Make predictions using the testing set\n",
    "y_prediction = regr.predict(X_test)"
   ]
  },
  {
   "cell_type": "code",
   "execution_count": 173,
   "metadata": {},
   "outputs": [
    {
     "name": "stdout",
     "output_type": "stream",
     "text": [
      "Mean squared error: 2.31\n",
      "Variance score: 1.00\n"
     ]
    },
    {
     "data": {
      "image/png": "[encoded data removed]",
      "text/plain": [
       "<Figure size 432x288 with 1 Axes>"
      ]
     },
     "metadata": {
      "needs_background": "light"
     },
     "output_type": "display_data"
    }
   ],
   "source": [
    "# Test performance of linear regression model\n",
    "print(\"Mean squared error: %.2f\"% mean_squared_error(y_test, y_prediction))\n",
    "\n",
    "# Explained variance score: 1 is perfect prediction\n",
    "print('Variance score: %.2f' % r2_score(y_test, y_prediction))\n",
    "\n",
    "# Plot outputs\n",
    "plt.scatter(X_test[:,0], y_test,  color='blue')\n",
    "plt.scatter(X_test[:,0], y_prediction, color='red')\n",
    "\n",
    "plt.show()"
   ]
  },
  {
   "cell_type": "code",
   "execution_count": null,
   "metadata": {},
   "outputs": [],
   "source": []
  }
 ],
 "metadata": {
  "kernelspec": {
   "display_name": "Python 3",
   "language": "python",
   "name": "python3"
  },
  "language_info": {
   "codemirror_mode": {
    "name": "ipython",
    "version": 3
   },
   "file_extension": ".py",
   "mimetype": "text/x-python",
   "name": "python",
   "nbconvert_exporter": "python",
   "pygments_lexer": "ipython3",
   "version": "3.5.6"
  }
 },
 "nbformat": 4,
 "nbformat_minor": 2
}
