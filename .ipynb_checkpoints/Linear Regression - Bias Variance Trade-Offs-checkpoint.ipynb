{
 "cells": [
  {
   "cell_type": "code",
   "execution_count": 4,
   "metadata": {},
   "outputs": [],
   "source": [
    "# Import libraries\n",
    "import numpy as np\n",
    "import pandas as pd\n",
    "import matplotlib.pyplot as plt\n",
    "from sklearn import datasets, linear_model\n",
    "from sklearn.model_selection import train_test_split\n",
    "from sklearn.metrics import mean_squared_error, r2_score"
   ]
  },
  {
   "cell_type": "code",
   "execution_count": 5,
   "metadata": {},
   "outputs": [],
   "source": [
    "# Generate data\n",
    "a = 0.5\n",
    "b = -3.0\n",
    "c = 2.0\n",
    "error_amplitude = 5.0\n",
    "\n",
    "x = np.linspace(-10.0, 10.0, num=100)\n",
    "num_samples = np.shape(x)[0]\n",
    "\n",
    "# Input X\n",
    "X = x.reshape(num_samples,1)\n",
    "# Output y\n",
    "y = a*np.multiply(X,X) + b*X + c + error_amplitude*np.random.rand(num_samples,1)"
   ]
  },
  {
   "cell_type": "code",
   "execution_count": 6,
   "metadata": {},
   "outputs": [],
   "source": [
    "# Create new feature\n",
    "X2 = np.multiply(X,X)\n",
    "X3 = np.multiply(X2,X)\n",
    "X4 = np.multiply(X3,X)\n",
    "X2 = np.hstack((X,X2,X3,X4))"
   ]
  },
  {
   "cell_type": "code",
   "execution_count": 7,
   "metadata": {},
   "outputs": [
    {
     "name": "stdout",
     "output_type": "stream",
     "text": [
      "[[-2.99838093e+00  5.29295246e-01  5.50228484e-04 -2.67587590e-04]]\n"
     ]
    }
   ],
   "source": [
    "#split into training & testing sets randomly\n",
    "X_train, X_test, y_train, y_test = train_test_split(X2, y, test_size=0.33, random_state=42)\n",
    "\n",
    "# Create linear regression object\n",
    "regr = linear_model.LinearRegression()\n",
    "\n",
    "# Train the model using the training sets\n",
    "regr.fit(X_train, y_train)\n",
    "print(regr.coef_)\n",
    "\n",
    "# Make predictions using the testing set\n",
    "y_prediction = regr.predict(X_test)"
   ]
  },
  {
   "cell_type": "code",
   "execution_count": 8,
   "metadata": {},
   "outputs": [
    {
     "name": "stdout",
     "output_type": "stream",
     "text": [
      "Mean squared error: 1.94\n",
      "Variance score: 1.00\n"
     ]
    },
    {
     "data": {
      "image/png": "[encoded data removed]",
      "text/plain": [
       "<Figure size 432x288 with 1 Axes>"
      ]
     },
     "metadata": {
      "needs_background": "light"
     },
     "output_type": "display_data"
    }
   ],
   "source": [
    "# Test performance of linear regression model\n",
    "print(\"Mean squared error: %.2f\"% mean_squared_error(y_test, y_prediction))\n",
    "\n",
    "# Explained variance score: 1 is perfect prediction\n",
    "print('Variance score: %.2f' % r2_score(y_test, y_prediction))\n",
    "\n",
    "# Plot outputs\n",
    "plt.scatter(X_test[:,0], y_test,  color='blue')\n",
    "plt.scatter(X_test[:,0], y_prediction, color='red')\n",
    "\n",
    "plt.show()"
   ]
  }
 ],
 "metadata": {
  "kernelspec": {
   "display_name": "Python 3",
   "language": "python",
   "name": "python3"
  },
  "language_info": {
   "codemirror_mode": {
    "name": "ipython",
    "version": 3
   },
   "file_extension": ".py",
   "mimetype": "text/x-python",
   "name": "python",
   "nbconvert_exporter": "python",
   "pygments_lexer": "ipython3",
   "version": "3.5.6"
  }
 },
 "nbformat": 4,
 "nbformat_minor": 2
}
